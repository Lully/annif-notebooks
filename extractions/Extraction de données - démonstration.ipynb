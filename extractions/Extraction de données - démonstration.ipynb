{
 "cells": [
  {
   "cell_type": "markdown",
   "id": "9ddc177d",
   "metadata": {},
   "source": [
    "# Objectif\n",
    "\n",
    "Exemple d'utilisation d'un notebook Jupyter, permettant d'utiliser des commentaires, du texte, des jeux de données associées, des scripts.\n",
    "\n",
    "J'en profite pour utiliser mon ensemble de fonctions (je n'ose parler de \"librairie Python\") pour manipuler des données du SRU : le fichier **[SRUextraction.py](https://github.com/Lully/bnf-sru/blob/master/SRUextraction.py)**"
   ]
  },
  {
   "cell_type": "code",
   "execution_count": 2,
   "id": "480d070c",
   "metadata": {},
   "outputs": [],
   "source": [
    "import SRUextraction as sru               # https://github.com/Lully/bnf-sru/blob/master/SRUextraction.py\n",
    "from stdf import create_file, line2report #  https://github.com/Lully/bnf-sru/blob/master/stdf.py"
   ]
  },
  {
   "cell_type": "markdown",
   "id": "ab7f3d81",
   "metadata": {},
   "source": [
    "Requête envoyée au SRU de la BnF : http://catalogue.bnf.fr/api/ : \n",
    "\n",
    "Notices de la Bibliographie nationale de France (rubrique \"Livres\") créées après le 1er janvier 2022 :"
   ]
  },
  {
   "cell_type": "code",
   "execution_count": 3,
   "id": "880d48d8",
   "metadata": {},
   "outputs": [],
   "source": [
    "query = 'bib.frenchNationalBibliography all \"Books\" and bib.creationdate >= \"20220101\"'\n",
    "url_sru = \"http://catalogue.bnf.fr/api/SRU\""
   ]
  },
  {
   "cell_type": "markdown",
   "id": "7b30d15f",
   "metadata": {},
   "source": [
    "Premier lot de résultats, en utilisant l'objet SRU_result qui contient un certain nombre d'attributs, dont :\n",
    " * **SRU_result.nb_results** : nombre total de résultats\n",
    " * **SRU_result.list_identifiers** : liste des identifiants de notices\n",
    " * **SRU_result.dict_records** : dictionnaire des notices, dont la clé est l'identifiant et la valeur la notice en MarcXML\n",
    "\n",
    "On crée un fichie de résultats dans lequel on envoie toutes les notices (enfin, plusieurs zones pour chaque notice) ligne à ligne.\n",
    "\n",
    "Comme le SRU va envoyer les résultats 500 par 500, on pagine les pages de résultats pour aller jusqu'au dernier\n",
    "\n",
    "Pour chaque ARK trouvé, on va récupérer la valeur de certaines zones grâce à la fonction **record2fieldvalue** qui accepte 2 paramètres :\n",
    " * la notice (en MarcXML)\n",
    " * la zone à récupérer (qui peut être sous la forme : `200`, `200$a` ou encore `200$a$f`, par exemple) "
   ]
  },
  {
   "cell_type": "code",
   "execution_count": 5,
   "id": "7d314a62",
   "metadata": {},
   "outputs": [
    {
     "name": "stdout",
     "output_type": "stream",
     "text": [
      "['ARK', '200', '214', '214$c', '700', '300$a']\n"
     ]
    }
   ],
   "source": [
    "report = create_file(\"livresBibNatFra2022.txt\", [\"ARK\", \"200\", \"214\", \"214$c\", \"700\", \"300$a\"])\n",
    "params = {\"recordSchema\": \"unimarcxchange\", \"maximumRecords\": \"500\"}\n",
    "results = sru.SRU_result(query, url_sru, \n",
    "                         parametres=params)\n",
    "for ark in results.dict_records:\n",
    "    zone_200 = sru.record2fieldvalue(results.dict_records[ark], \"200\") # zone de titre\n",
    "    zone_214 = sru.record2fieldvalue(results.dict_records[ark], \"214\") # Adresse de l'éditeur\n",
    "    zone_214c = sru.record2fieldvalue(results.dict_records[ark], \"214$c\") # Nom de l'éditeur\n",
    "    zone_700 = sru.record2fieldvalue(results.dict_records[ark], \"700\") # Lien aux auteurs\n",
    "    zone_300a = sru.record2fieldvalue(results.dict_records[ark], \"300\")# zone de note\n",
    "    line2report([ark, zone_200, zone_214, zone_214c, zone_700, zone_300a], report, display=False)\n"
   ]
  },
  {
   "cell_type": "markdown",
   "id": "9ac755ed",
   "metadata": {},
   "source": [
    "Pour l'instant on n'a récupéré que la première page de 500 résultats. Il fautà présent paginer les résultats en demandant les pages 501 à 1000, 1001 à 1500, etc.\n",
    "\n",
    "En l'occurrence, il y a environ 20.000 résultats, donc **le script doit lancer successivement 40 requêtes**"
   ]
  },
  {
   "cell_type": "code",
   "execution_count": null,
   "id": "9c1c9d7f",
   "metadata": {},
   "outputs": [],
   "source": [
    "for i in range(501, results.nb_results, 500):\n",
    "    params[\"startRecord\"] = str(i)\n",
    "    results = sru.SRU_result(query, url_sru, \n",
    "                         parametres=params)\n",
    "    for ark in results.dict_records:\n",
    "        zone_200 = sru.record2fieldvalue(results.dict_records[ark], \"200\") # zone de titre\n",
    "        zone_214 = sru.record2fieldvalue(results.dict_records[ark], \"214\") # Adresse de l'éditeur\n",
    "        zone_214c = sru.record2fieldvalue(results.dict_records[ark], \"214$c\") # Nom de l'éditeur\n",
    "        zone_700 = sru.record2fieldvalue(results.dict_records[ark], \"700\") # Lien aux auteurs\n",
    "        zone_300a = sru.record2fieldvalue(results.dict_records[ark], \"300\")# zone de note\n",
    "        line2report([ark, zone_200, zone_214, zone_214c, zone_700, zone_300a], report, display=False)\n"
   ]
  },
  {
   "cell_type": "markdown",
   "id": "c443ba6b",
   "metadata": {},
   "source": [
    "Ce script a permis de produire le fichier intitulé **livresBibNatFra2022.txt** situé dans le même répertoire\n",
    "\n",
    "[livresBibNatFra2022.txt](./livresBibNatFra2022.txt)"
   ]
  },
  {
   "cell_type": "code",
   "execution_count": null,
   "id": "47e4a238",
   "metadata": {},
   "outputs": [],
   "source": []
  }
 ],
 "metadata": {
  "kernelspec": {
   "display_name": "Python 3 (ipykernel)",
   "language": "python",
   "name": "python3"
  },
  "language_info": {
   "codemirror_mode": {
    "name": "ipython",
    "version": 3
   },
   "file_extension": ".py",
   "mimetype": "text/x-python",
   "name": "python",
   "nbconvert_exporter": "python",
   "pygments_lexer": "ipython3",
   "version": "3.7.6"
  }
 },
 "nbformat": 4,
 "nbformat_minor": 5
}
