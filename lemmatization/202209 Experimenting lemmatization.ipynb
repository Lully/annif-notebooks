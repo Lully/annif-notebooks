{
 "cells": [
  {
   "cell_type": "markdown",
   "id": "169e6b0b",
   "metadata": {},
   "source": [
    "# Introduction\n",
    "\n",
    "En préalable à des tests d'indexation impliquant une approche bayésienne (classifications automatiques successives, s'appuyant chacune sur les étapes précédentes), il faut identifier la méthode de lemmatisation la plus efficace pour la langue française.\n",
    "\n",
    "On s'appuiera sur la méthode décrite dans l'article \n",
    "\n",
    "Suominen, Osma, et Ilkka Koskenniemi. « Annif Analyzer Shootout: Comparing text lemmatization methods for automated subject indexing ». The Code4Lib Journal 54 (29 août 2022). https://journal.code4lib.org/articles/16719.\n",
    "\n",
    "mais en l'appliquant au français (l'article traite du finnois et de l'anglais)"
   ]
  },
  {
   "cell_type": "markdown",
   "id": "cb51073d",
   "metadata": {},
   "source": [
    "# Méthodologie\n",
    "\n",
    "Constitution d'un corpus simple de chaînes de caractères extraites des titres, à comparer avec des points d'accès d'entités Rameau, sur une centaine de notices Rameau dans plusieurs domaines de la connaissance.\n",
    "\n",
    "Les données bibliographiques seront extraites des années 2000-2022 de la Bibliographie nationale française, extraites à partir du SRU de la BnF (https://catalogue.bnf.fr/api) documenté ici : https://api.bnf.fr/api-sru-catalogue-general\n",
    "\n",
    "Il s'agit de constater, pour plusieurs algorithmes de lemmatisation, comment ceux-ci traitent (ou maltraitent) la langue française afin de faciliter des rapprochement avec les points d'accès Rameau.\n",
    "\n",
    "Pour ces rapprochements, on utilisera aussi les formes rejetées des notices Rameau, qui peuvent contenir l'expression exacte trouvée dans les titres des documents."
   ]
  },
  {
   "cell_type": "code",
   "execution_count": null,
   "id": "56ed292e",
   "metadata": {},
   "outputs": [],
   "source": []
  }
 ],
 "metadata": {
  "kernelspec": {
   "display_name": "Python 3 (ipykernel)",
   "language": "python",
   "name": "python3"
  },
  "language_info": {
   "codemirror_mode": {
    "name": "ipython",
    "version": 3
   },
   "file_extension": ".py",
   "mimetype": "text/x-python",
   "name": "python",
   "nbconvert_exporter": "python",
   "pygments_lexer": "ipython3",
   "version": "3.7.6"
  }
 },
 "nbformat": 4,
 "nbformat_minor": 5
}
